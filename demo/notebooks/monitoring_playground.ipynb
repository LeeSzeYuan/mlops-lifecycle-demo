{
 "cells": [
  {
   "cell_type": "code",
   "execution_count": null,
   "id": "81015d68-7731-4f13-b951-a2928d543b5b",
   "metadata": {},
   "outputs": [],
   "source": [
    "import pandas as pd\n",
    "import mlflow\n",
    "from mlflow.tracking import MlflowClient\n",
    "import pickle\n",
    "import datetime\n",
    "\n",
    "from evidently import ColumnMapping\n",
    "from evidently.report import Report\n",
    "from evidently.metrics import ColumnDriftMetric, DatasetDriftMetric, DatasetMissingValuesMetric\n",
    "from evidently.metric_preset import DataDriftPreset, DataQualityPreset"
   ]
  },
  {
   "cell_type": "code",
   "execution_count": null,
   "id": "62737bfa-6e2a-495b-ab7a-bdc030ee4ebb",
   "metadata": {},
   "outputs": [],
   "source": [
    "def process_dataframe(path):\n",
    "    df = pd.read_parquet(path, engine=\"pyarrow\")\n",
    "    df[\"tpep_dropoff_datetime\"] = pd.to_datetime(df[\"tpep_dropoff_datetime\"])\n",
    "    df[\"tpep_pickup_datetime\"] = pd.to_datetime(df[\"tpep_pickup_datetime\"])\n",
    "\n",
    "    df[\"duration\"] = (df[\"tpep_dropoff_datetime\"] - df[\"tpep_pickup_datetime\"]).dt.total_seconds() / 60\n",
    "\n",
    "    df = df[(df[\"duration\"] >= 1) & (df[\"duration\"] <= 60)]\n",
    "\n",
    "    categorical = [\"PULocationID\", \"DOLocationID\"]\n",
    "    df[categorical] = df[categorical].astype(str)\n",
    "\n",
    "    df['PU_DO'] = df['PULocationID'] + '_' + df['DOLocationID']\n",
    "    \n",
    "    return df"
   ]
  },
  {
   "cell_type": "code",
   "execution_count": null,
   "id": "ce5f9989-3b7c-4c87-8b38-38be179d9aa0",
   "metadata": {},
   "outputs": [],
   "source": [
    "def load_model():\n",
    "    mlflow.set_tracking_uri(\"http://127.0.0.1:5000\")\n",
    "    client = MlflowClient(\"http://127.0.0.1:5000\")\n",
    "    # print(mlflow.get_tracking_uri()) \n",
    "\n",
    "    experiment_id = client.get_experiment_by_name(\"experiment-1\").experiment_id\n",
    "    runs = client.search_runs(experiment_ids=[experiment_id], order_by=[\"start_time desc\"], max_results=1)\n",
    "    run_id = runs[0].info.run_id\n",
    "    # print(run_id)\n",
    "\n",
    "    # model = mlflow.sklearn.load_model(f\"runs:/{run_id}/model\")\n",
    "    model = mlflow.pyfunc.load_model(f\"runs:/{run_id}/model\")\n",
    "\n",
    "    artifact_uri = f\"runs:/{run_id}/artifacts/dv.pkl\"\n",
    "    dv_path = mlflow.artifacts.download_artifacts(artifact_uri=artifact_uri)\n",
    "    with open(dv_path, \"rb\") as f_in:\n",
    "        dv = pickle.load(f_in)\n",
    "\n",
    "    return model, dv"
   ]
  },
  {
   "cell_type": "code",
   "execution_count": null,
   "id": "3d8c6aa6-8dc3-4360-b770-452c8e4fa7b4",
   "metadata": {},
   "outputs": [],
   "source": [
    "def predict_durations(df, model, dv):\n",
    "    categorical = ['PU_DO']\n",
    "    numerical = ['trip_distance']\n",
    "    target = 'duration'\n",
    "\n",
    "    preds =  model.predict(dv.transform(df[categorical + numerical].to_dict(orient='records')))\n",
    "    df[\"prediction\"] = preds\n",
    "    \n",
    "    return df"
   ]
  },
  {
   "cell_type": "code",
   "execution_count": null,
   "id": "b08c4d6b-f793-499d-b3cd-882ca278f9d0",
   "metadata": {},
   "outputs": [],
   "source": [
    "train_data = process_dataframe(\"../data/yellow_tripdata_2024-11.parquet\")"
   ]
  },
  {
   "cell_type": "code",
   "execution_count": null,
   "id": "f90db88d-44c6-4ca9-b82e-9ceb7aadd50a",
   "metadata": {},
   "outputs": [],
   "source": [
    "val_data = process_dataframe(\"../data/yellow_tripdata_2024-12.parquet\")"
   ]
  },
  {
   "cell_type": "code",
   "execution_count": null,
   "id": "d1fd731c-f9b4-41b8-a5d2-cf9feb9b1c6a",
   "metadata": {},
   "outputs": [],
   "source": [
    "model, dv = load_model()"
   ]
  },
  {
   "cell_type": "code",
   "execution_count": null,
   "id": "e3690e85-4d73-472f-ab27-20d6c3ae9abb",
   "metadata": {},
   "outputs": [],
   "source": [
    "train_data = predict_durations(train, model, dv)"
   ]
  },
  {
   "cell_type": "code",
   "execution_count": null,
   "id": "b4d0d675-5d3c-4286-a753-425b60fef5e0",
   "metadata": {},
   "outputs": [],
   "source": [
    "val_data = predict_durations(val, model, dv)"
   ]
  },
  {
   "cell_type": "code",
   "execution_count": null,
   "id": "cef7dfb2-9e42-431f-849a-f0af20927de7",
   "metadata": {},
   "outputs": [],
   "source": [
    "column_mapping = ColumnMapping(\n",
    "    target=None,\n",
    "    prediction='prediction',\n",
    "    numerical_features=['trip_distance'],\n",
    "    categorical_features=['PU_DO']\n",
    ")"
   ]
  },
  {
   "cell_type": "code",
   "execution_count": null,
   "id": "e9bb47b3-906f-4bfe-87ee-9e5be69bf722",
   "metadata": {},
   "outputs": [],
   "source": [
    "report = Report(metrics=[\n",
    "        ColumnDriftMetric(column_name='prediction'),\n",
    "        DatasetDriftMetric(),\n",
    "        DatasetMissingValuesMetric()\n",
    "    ]\n",
    ")"
   ]
  },
  {
   "cell_type": "code",
   "execution_count": null,
   "id": "04bf9895-802f-4ea3-976a-07a6a28701c7",
   "metadata": {},
   "outputs": [],
   "source": [
    "report.run(reference_data=train_data, current_data=val_data, column_mapping=column_mapping)"
   ]
  },
  {
   "cell_type": "code",
   "execution_count": null,
   "id": "9e484c62-c9b6-4f7b-b979-ad0d886102b7",
   "metadata": {},
   "outputs": [],
   "source": [
    "result = report.as_dict()"
   ]
  },
  {
   "cell_type": "code",
   "execution_count": null,
   "id": "7458c31c-acef-4c40-aa4a-37dc6929a92c",
   "metadata": {},
   "outputs": [],
   "source": [
    "result"
   ]
  },
  {
   "cell_type": "code",
   "execution_count": null,
   "id": "0424266f-e013-470a-bcdc-c7c764e645f2",
   "metadata": {},
   "outputs": [],
   "source": [
    "# report.show(mode='inline')"
   ]
  },
  {
   "cell_type": "code",
   "execution_count": null,
   "id": "bb50f8fa-ff2b-44e9-8d00-9076640b812a",
   "metadata": {},
   "outputs": [],
   "source": [
    "from evidently.ui.workspace import Workspace\n",
    "from evidently.ui.dashboards import DashboardPanelCounter, DashboardPanelPlot, CounterAgg, PanelValue, PlotType, ReportFilter\n",
    "from evidently.renderers.html_widgets import WidgetSize"
   ]
  },
  {
   "cell_type": "code",
   "execution_count": null,
   "id": "5a058aeb-8a0f-4d7a-976d-b2b8d9ff4553",
   "metadata": {},
   "outputs": [],
   "source": [
    "ws = Workspace(\"workspace\")\n",
    "project = ws.create_project(\"NYC Taxi Data Quality Report\")\n",
    "project.description = \"NYC Taxi Data Quality Report\"\n",
    "project.save()\n",
    "ws.add_report(project.id, report)"
   ]
  },
  {
   "cell_type": "code",
   "execution_count": null,
   "id": "574293f4-7dc0-4db2-a53e-401788d5672b",
   "metadata": {},
   "outputs": [],
   "source": [
    "data_quality_report = Report(\n",
    "    metrics=[\n",
    "        DataQualityPreset()\n",
    "    ],\n",
    "    timestamp=datetime.datetime(2022,1,28)\n",
    ")\n",
    "\n",
    "data_quality_report.run(reference_data=None,\n",
    "                  current_data=val_data,\n",
    "                  column_mapping=column_mapping)"
   ]
  },
  {
   "cell_type": "code",
   "execution_count": null,
   "id": "dc4c6047-acc7-40ad-bd07-854f02e02945",
   "metadata": {},
   "outputs": [],
   "source": [
    "ws.add_report(project.id, regular_report)"
   ]
  },
  {
   "cell_type": "code",
   "execution_count": null,
   "id": "1fab53d6-db91-4477-9c41-104c98083249",
   "metadata": {},
   "outputs": [],
   "source": [
    "project.dashboard.add_panel(\n",
    "    DashboardPanelCounter(\n",
    "        filter=ReportFilter(metadata_values={}, tag_values=[]),\n",
    "        agg=CounterAgg.NONE,\n",
    "        title=\"NYC taxi data dashboard\"\n",
    "    )\n",
    ")"
   ]
  },
  {
   "cell_type": "code",
   "execution_count": null,
   "id": "add79a8e-a2dc-420c-8a12-399f0bf4af5a",
   "metadata": {},
   "outputs": [],
   "source": [
    "project.dashboard.add_panel(\n",
    "    DashboardPanelPlot(\n",
    "        filter=ReportFilter(metadata_values={}, tag_values=[]),\n",
    "        title=\"Number of Missing Values\",\n",
    "        values=[\n",
    "            PanelValue(\n",
    "                metric_id=\"DatasetMissingValuesMetric\",\n",
    "                field_path=\"current.number_of_missing_values\",\n",
    "                legend=\"Missing Values\"\n",
    "            ),\n",
    "        ],\n",
    "        plot_type=PlotType.BAR,\n",
    "        size=WidgetSize.HALF,\n",
    "    ),\n",
    ")"
   ]
  },
  {
   "cell_type": "code",
   "execution_count": null,
   "id": "8df0befc-868a-434d-9af8-87e493e72ee5",
   "metadata": {},
   "outputs": [],
   "source": [
    "project.dashboard.add_panel(\n",
    "    DashboardPanelPlot(\n",
    "        filter=ReportFilter(metadata_values={}, tag_values=[]),\n",
    "        title=\"Inference Count\",\n",
    "        values=[\n",
    "            PanelValue(\n",
    "                metric_id=\"DatasetSummaryMetric\",\n",
    "                field_path=\"current.number_of_rows\",\n",
    "                legend=\"count\"\n",
    "            ),\n",
    "        ],\n",
    "        plot_type=PlotType.BAR,\n",
    "        size=WidgetSize.HALF,\n",
    "    ),\n",
    ")"
   ]
  },
  {
   "cell_type": "code",
   "execution_count": null,
   "id": "971d9e02-493e-4f13-a966-e621b968b7a9",
   "metadata": {},
   "outputs": [],
   "source": [
    "project.save()"
   ]
  },
  {
   "cell_type": "code",
   "execution_count": null,
   "id": "5a951ea8-944b-48f0-85b1-d76dba692099",
   "metadata": {},
   "outputs": [],
   "source": [
    "project.dashboard.add_panel(\n",
    "    DashboardPanelPlot(\n",
    "        filter=ReportFilter(metadata_values={}, tag_values=[]),\n",
    "        title=\"Dataset Drift Over Time\",\n",
    "        values=[\n",
    "            PanelValue(\n",
    "                metric_id=\"DatasetDriftMetric\",\n",
    "                field_path=\"share_of_drifted_columns\",\n",
    "                legend=\"Drifted Columns (%)\"\n",
    "            ),\n",
    "        ],\n",
    "        plot_type=PlotType.LINE,\n",
    "        size=WidgetSize.HALF,\n",
    "    ),\n",
    ")"
   ]
  },
  {
   "cell_type": "code",
   "execution_count": null,
   "id": "d0f46a0b-a13a-49b2-a6b3-e923c40109eb",
   "metadata": {},
   "outputs": [],
   "source": [
    "for panel in project.dashboard.panels:\n",
    "    print(f\"Panel ID: {panel.id}, Title: {panel.title}\")"
   ]
  },
  {
   "cell_type": "code",
   "execution_count": null,
   "id": "c6a5bcec-0650-4d50-95b0-3bf26c8dff3e",
   "metadata": {},
   "outputs": [],
   "source": [
    "project.dashboard.remove_panel(panel_id=\"019545bd-d90f-773b-b6ef-152c98ea8386\")\n",
    "project.dashboard.remove_panel(panel_id=\"019545be-f3ef-7ba1-8832-756f414c1223\")\n",
    "project.dashboard.remove_panel(panel_id=\"019545c0-98e5-719f-9dfa-03f205717a51\")"
   ]
  },
  {
   "cell_type": "code",
   "execution_count": null,
   "id": "b5152dad-bf63-4306-b148-2a3828f34035",
   "metadata": {},
   "outputs": [],
   "source": []
  }
 ],
 "metadata": {
  "kernelspec": {
   "display_name": "Python 3 (ipykernel)",
   "language": "python",
   "name": "python3"
  },
  "language_info": {
   "codemirror_mode": {
    "name": "ipython",
    "version": 3
   },
   "file_extension": ".py",
   "mimetype": "text/x-python",
   "name": "python",
   "nbconvert_exporter": "python",
   "pygments_lexer": "ipython3",
   "version": "3.12.0"
  }
 },
 "nbformat": 4,
 "nbformat_minor": 5
}
